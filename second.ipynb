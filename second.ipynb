{
 "cells": [
  {
   "cell_type": "code",
   "execution_count": 1,
   "metadata": {},
   "outputs": [
    {
     "name": "stdout",
     "output_type": "stream",
     "text": [
      "S \n",
      "A \n",
      "MOUSTACHIR \n",
      "NOTICE D'INFORMATION \n",
      "Augmentation de capital par émission de nouvelles actions \n",
      "Nombres d’actions offertes \n",
      ": 125 000 actions \n",
      "Prix de cession \n",
      ": 760 DA / Montant de Iémission \n",
      ": 94 437 500.00 \n",
      "Période de souscription \n",
      ": du 01/12/2024 au 31/12/2024 \n",
      "Promoteur en Bourse et Intermédiaire en Opération de Bourse (10B) \n",
      "Chef de file \n",
      "Intermédiaires en Opération de Bourse (10B) \n",
      "Membres du Syndicat de placement \n",
      "B \n",
      "mm== \n",
      " alBaraka \n",
      "Visa COSOB n°2024/04 du 23/10/2024 \n",
      "\n",
      "\" Moustachir \n",
      "- j \n",
      "Notice D'information \n",
      "AVERTISSEMENT \n",
      "Le visa de \n",
      "la commission ne peut étre assimilé \n",
      "a une recommandation de \n",
      "souscription ou d'achat des titres proposes. \n",
      "1l ne comporte aucun jugement, aucune appréciation sur I'opération projetée. \n",
      "1l vérifie seulement que les informations fournies par la notice d'information \n",
      "visée paraissent véridiques et suffisantes pour que l'investisseur potentiel puisse \n",
      "fonder sa décision. \n",
      "L'attention \n",
      "des \n",
      "investisseurs \n",
      "potentiels \n",
      "est \n",
      "attirée \n",
      "sur \n",
      "le \n",
      "fait \n",
      "\n"
     ]
    }
   ],
   "source": [
    "import fitz  # PyMuPDF\n",
    "\n",
    "# Chemin vers le fichier PDF\n",
    "pdf_path = \"data/Copy of المذكرة الإعلامية SPA MOUSTACHIR-1.pdf\"\n",
    "\n",
    "# Lire le fichier PDF\n",
    "doc = fitz.open(pdf_path)\n",
    "\n",
    "# Extraire le texte de toutes les pages\n",
    "text = \"\\n\".join([page.get_text() for page in doc])\n",
    "\n",
    "# Afficher les premières lignes pour vérifier\n",
    "print(text[:1000])  # Affiche les 1000 premiers caractères\n"
   ]
  },
  {
   "cell_type": "code",
   "execution_count": 3,
   "metadata": {},
   "outputs": [
    {
     "name": "stdout",
     "output_type": "stream",
     "text": [
      "Section 0: S \n",
      "A \n",
      "MOUSTACHIR \n",
      "NOTICE D'INFORMATION \n",
      "Augmentation de capital par émission de nouvelles actions \n",
      "Nombres d’actions offertes \n",
      ": 125 000 actions \n",
      "Prix de cession \n",
      ": 760 DA / Montant de Iémission \n",
      ": 94\n",
      "Section 1: \n",
      "1.1.2. Montant de I'opération ....... \n",
      "\n",
      "Section 2: 1.1.4. Produit brut et estimation du produit net de la cessiol \n",
      "Section 3: \n",
      "1.1.4.1. Produit brut de la cession \n",
      "\n",
      "Section 4: . \n",
      "Section 5: \n",
      "1.1.4.2. Produit net de la cession... \n",
      "\n",
      "Section 6: 1.1.4.3. Utilisation du produit net de la cession \n",
      "Section 7: \n",
      "1.1.5. Charges relatives a |'opération \n",
      "\n",
      "Section 8: 1.1.6. Jouissance des titres cédés \n",
      "Section 9: \n",
      "1.1.7. Période de souscription \n",
      "\n"
     ]
    }
   ],
   "source": [
    "import re\n",
    "\n",
    "# Diviser le texte par les titres en repérant des mots-clés comme \"Chapitre\", \"Services\", etc.\n",
    "sections = re.split(r'(\\n[0-9.]+[-\\s].+?\\n)', text)\n",
    "\n",
    "# Afficher les sections trouvées\n",
    "for i, section in enumerate(sections[:10]):  # Affiche les 10 premières parties\n",
    "    print(f\"Section {i}: {section[:200]}\")  # Affiche les 200 premiers caractères par section\n"
   ]
  },
  {
   "cell_type": "code",
   "execution_count": 2,
   "metadata": {},
   "outputs": [
    {
     "name": "stdout",
     "output_type": "stream",
     "text": [
      "✅ Données enregistrées sous format JSON !\n"
     ]
    }
   ],
   "source": [
    "import json\n",
    "\n",
    "# Exemple de structure JSON\n",
    "data = {\n",
    "    \"services\": {},\n",
    "    \"achat_actions\": {},\n",
    "    \"partenariats\": {},\n",
    "}\n",
    "\n",
    "# Remplir le dictionnaire avec des extraits pertinents du texte (manuel ou via regex)\n",
    "data[\"services\"][\"consulting\"] = \"...\"\n",
    "data[\"achat_actions\"][\"processus\"] = \"...\"\n",
    "data[\"partenariats\"][\"expansion\"] = \"...\"\n",
    "\n",
    "# Sauvegarder le fichier JSON\n",
    "with open(\"data/moustachir_data.json\", \"w\", encoding=\"utf-8\") as f:\n",
    "    json.dump(data, f, ensure_ascii=False, indent=4)\n",
    "\n",
    "print(\"✅ Données enregistrées sous format JSON !\")\n"
   ]
  },
  {
   "cell_type": "code",
   "execution_count": null,
   "metadata": {},
   "outputs": [],
   "source": []
  }
 ],
 "metadata": {
  "kernelspec": {
   "display_name": "base",
   "language": "python",
   "name": "python3"
  },
  "language_info": {
   "codemirror_mode": {
    "name": "ipython",
    "version": 3
   },
   "file_extension": ".py",
   "mimetype": "text/x-python",
   "name": "python",
   "nbconvert_exporter": "python",
   "pygments_lexer": "ipython3",
   "version": "3.12.3"
  }
 },
 "nbformat": 4,
 "nbformat_minor": 2
}
